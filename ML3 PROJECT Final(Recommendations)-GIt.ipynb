{
 "cells": [
  {
   "cell_type": "markdown",
   "metadata": {},
   "source": [
    "# Recommendation systems"
   ]
  },
  {
   "cell_type": "code",
   "execution_count": 90,
   "metadata": {},
   "outputs": [],
   "source": [
    "from surprise import KNNWithMeans\n",
    "from surprise import Dataset\n",
    "from surprise import accuracy\n",
    "from surprise import Reader\n",
    "import os\n",
    "from surprise.model_selection import train_test_split\n",
    "from collections import defaultdict"
   ]
  },
  {
   "cell_type": "code",
   "execution_count": 91,
   "metadata": {},
   "outputs": [
    {
     "data": {
      "text/html": [
       "<div>\n",
       "<style scoped>\n",
       "    .dataframe tbody tr th:only-of-type {\n",
       "        vertical-align: middle;\n",
       "    }\n",
       "\n",
       "    .dataframe tbody tr th {\n",
       "        vertical-align: top;\n",
       "    }\n",
       "\n",
       "    .dataframe thead th {\n",
       "        text-align: right;\n",
       "    }\n",
       "</style>\n",
       "<table border=\"1\" class=\"dataframe\">\n",
       "  <thead>\n",
       "    <tr style=\"text-align: right;\">\n",
       "      <th></th>\n",
       "      <th>User_Id</th>\n",
       "      <th>Product_Id</th>\n",
       "      <th>Rating</th>\n",
       "      <th>Timestamp</th>\n",
       "    </tr>\n",
       "  </thead>\n",
       "  <tbody>\n",
       "    <tr>\n",
       "      <th>0</th>\n",
       "      <td>AKM1MP6P0OYPR</td>\n",
       "      <td>0132793040</td>\n",
       "      <td>5.0</td>\n",
       "      <td>1365811200</td>\n",
       "    </tr>\n",
       "    <tr>\n",
       "      <th>1</th>\n",
       "      <td>A2CX7LUOHB2NDG</td>\n",
       "      <td>0321732944</td>\n",
       "      <td>5.0</td>\n",
       "      <td>1341100800</td>\n",
       "    </tr>\n",
       "    <tr>\n",
       "      <th>2</th>\n",
       "      <td>A2NWSAGRHCP8N5</td>\n",
       "      <td>0439886341</td>\n",
       "      <td>1.0</td>\n",
       "      <td>1367193600</td>\n",
       "    </tr>\n",
       "    <tr>\n",
       "      <th>3</th>\n",
       "      <td>A2WNBOD3WNDNKT</td>\n",
       "      <td>0439886341</td>\n",
       "      <td>3.0</td>\n",
       "      <td>1374451200</td>\n",
       "    </tr>\n",
       "    <tr>\n",
       "      <th>4</th>\n",
       "      <td>A1GI0U4ZRJA8WN</td>\n",
       "      <td>0439886341</td>\n",
       "      <td>1.0</td>\n",
       "      <td>1334707200</td>\n",
       "    </tr>\n",
       "  </tbody>\n",
       "</table>\n",
       "</div>"
      ],
      "text/plain": [
       "          User_Id  Product_Id  Rating   Timestamp\n",
       "0   AKM1MP6P0OYPR  0132793040     5.0  1365811200\n",
       "1  A2CX7LUOHB2NDG  0321732944     5.0  1341100800\n",
       "2  A2NWSAGRHCP8N5  0439886341     1.0  1367193600\n",
       "3  A2WNBOD3WNDNKT  0439886341     3.0  1374451200\n",
       "4  A1GI0U4ZRJA8WN  0439886341     1.0  1334707200"
      ]
     },
     "execution_count": 91,
     "metadata": {},
     "output_type": "execute_result"
    }
   ],
   "source": [
    "df1=pd.read_csv('ratings_Electronics (1).csv',names=['User_Id', 'Product_Id','Rating','Timestamp'])\n",
    "df1.head()"
   ]
  },
  {
   "cell_type": "code",
   "execution_count": 92,
   "metadata": {},
   "outputs": [
    {
     "name": "stdout",
     "output_type": "stream",
     "text": [
      "<class 'pandas.core.frame.DataFrame'>\n",
      "RangeIndex: 7824482 entries, 0 to 7824481\n",
      "Data columns (total 4 columns):\n",
      " #   Column      Dtype  \n",
      "---  ------      -----  \n",
      " 0   User_Id     object \n",
      " 1   Product_Id  object \n",
      " 2   Rating      float64\n",
      " 3   Timestamp   int64  \n",
      "dtypes: float64(1), int64(1), object(2)\n",
      "memory usage: 238.8+ MB\n"
     ]
    }
   ],
   "source": [
    "df1.info()"
   ]
  },
  {
   "cell_type": "code",
   "execution_count": 93,
   "metadata": {},
   "outputs": [
    {
     "data": {
      "text/plain": [
       "5.0    4347541\n",
       "4.0    1485781\n",
       "1.0     901765\n",
       "3.0     633073\n",
       "2.0     456322\n",
       "Name: Rating, dtype: int64"
      ]
     },
     "execution_count": 93,
     "metadata": {},
     "output_type": "execute_result"
    }
   ],
   "source": [
    "df1['Rating'].value_counts()"
   ]
  },
  {
   "cell_type": "code",
   "execution_count": 94,
   "metadata": {},
   "outputs": [],
   "source": [
    "df1['Rating']=df1['Rating'].astype(int)"
   ]
  },
  {
   "cell_type": "markdown",
   "metadata": {},
   "source": [
    "As rating dosent involve any decimal values we have converted it to integer."
   ]
  },
  {
   "cell_type": "code",
   "execution_count": 95,
   "metadata": {},
   "outputs": [
    {
     "name": "stdout",
     "output_type": "stream",
     "text": [
      "<class 'pandas.core.frame.DataFrame'>\n",
      "RangeIndex: 7824482 entries, 0 to 7824481\n",
      "Data columns (total 4 columns):\n",
      " #   Column      Dtype \n",
      "---  ------      ----- \n",
      " 0   User_Id     object\n",
      " 1   Product_Id  object\n",
      " 2   Rating      int32 \n",
      " 3   Timestamp   int64 \n",
      "dtypes: int32(1), int64(1), object(2)\n",
      "memory usage: 208.9+ MB\n"
     ]
    }
   ],
   "source": [
    "df1.info()"
   ]
  },
  {
   "cell_type": "code",
   "execution_count": 96,
   "metadata": {},
   "outputs": [
    {
     "data": {
      "text/plain": [
       "(7824482, 4)"
      ]
     },
     "execution_count": 96,
     "metadata": {},
     "output_type": "execute_result"
    }
   ],
   "source": [
    "df1.shape"
   ]
  },
  {
   "cell_type": "code",
   "execution_count": 97,
   "metadata": {},
   "outputs": [
    {
     "data": {
      "text/html": [
       "<div>\n",
       "<style scoped>\n",
       "    .dataframe tbody tr th:only-of-type {\n",
       "        vertical-align: middle;\n",
       "    }\n",
       "\n",
       "    .dataframe tbody tr th {\n",
       "        vertical-align: top;\n",
       "    }\n",
       "\n",
       "    .dataframe thead th {\n",
       "        text-align: right;\n",
       "    }\n",
       "</style>\n",
       "<table border=\"1\" class=\"dataframe\">\n",
       "  <thead>\n",
       "    <tr style=\"text-align: right;\">\n",
       "      <th></th>\n",
       "      <th>User_Id</th>\n",
       "      <th>Product_Id</th>\n",
       "      <th>Rating</th>\n",
       "    </tr>\n",
       "  </thead>\n",
       "  <tbody>\n",
       "    <tr>\n",
       "      <th>0</th>\n",
       "      <td>AKM1MP6P0OYPR</td>\n",
       "      <td>0132793040</td>\n",
       "      <td>5</td>\n",
       "    </tr>\n",
       "    <tr>\n",
       "      <th>1</th>\n",
       "      <td>A2CX7LUOHB2NDG</td>\n",
       "      <td>0321732944</td>\n",
       "      <td>5</td>\n",
       "    </tr>\n",
       "    <tr>\n",
       "      <th>2</th>\n",
       "      <td>A2NWSAGRHCP8N5</td>\n",
       "      <td>0439886341</td>\n",
       "      <td>1</td>\n",
       "    </tr>\n",
       "    <tr>\n",
       "      <th>3</th>\n",
       "      <td>A2WNBOD3WNDNKT</td>\n",
       "      <td>0439886341</td>\n",
       "      <td>3</td>\n",
       "    </tr>\n",
       "    <tr>\n",
       "      <th>4</th>\n",
       "      <td>A1GI0U4ZRJA8WN</td>\n",
       "      <td>0439886341</td>\n",
       "      <td>1</td>\n",
       "    </tr>\n",
       "  </tbody>\n",
       "</table>\n",
       "</div>"
      ],
      "text/plain": [
       "          User_Id  Product_Id  Rating\n",
       "0   AKM1MP6P0OYPR  0132793040       5\n",
       "1  A2CX7LUOHB2NDG  0321732944       5\n",
       "2  A2NWSAGRHCP8N5  0439886341       1\n",
       "3  A2WNBOD3WNDNKT  0439886341       3\n",
       "4  A1GI0U4ZRJA8WN  0439886341       1"
      ]
     },
     "execution_count": 97,
     "metadata": {},
     "output_type": "execute_result"
    }
   ],
   "source": [
    "df1.drop(columns=[\"Timestamp\"], inplace=True)\n",
    "df1.head()"
   ]
  },
  {
   "cell_type": "markdown",
   "metadata": {},
   "source": [
    "As we do not require Timestamp column for further analysis we have removed it."
   ]
  },
  {
   "cell_type": "code",
   "execution_count": 98,
   "metadata": {},
   "outputs": [
    {
     "data": {
      "text/plain": [
       "(782448, 3)"
      ]
     },
     "execution_count": 98,
     "metadata": {},
     "output_type": "execute_result"
    }
   ],
   "source": [
    "df1 = df1[:int(len(df1) * .1)]\n",
    "df1.shape"
   ]
  },
  {
   "cell_type": "markdown",
   "metadata": {},
   "source": [
    "Our orignal dataset countains 78,24,482 rows it really diffecult to make any changes for futher analysis as its very huge and will consume time , so we have taken only the 10% of the total obsevations .i.e. 7,82,448."
   ]
  },
  {
   "cell_type": "code",
   "execution_count": 99,
   "metadata": {},
   "outputs": [
    {
     "name": "stdout",
     "output_type": "stream",
     "text": [
      "Total number of Ratings submitted : 782448\n",
      "Total number of Users   : 606149\n",
      "Total number of Products  : 47105\n"
     ]
    }
   ],
   "source": [
    "print(\"Total number of Ratings submitted :\",df1.shape[0])\n",
    "print(\"Total number of Users   :\", len(np.unique(df1['User_Id'])))\n",
    "print(\"Total number of Products  :\", len(np.unique(df1['Product_Id'])))"
   ]
  },
  {
   "cell_type": "code",
   "execution_count": 100,
   "metadata": {},
   "outputs": [
    {
     "data": {
      "text/html": [
       "<div>\n",
       "<style scoped>\n",
       "    .dataframe tbody tr th:only-of-type {\n",
       "        vertical-align: middle;\n",
       "    }\n",
       "\n",
       "    .dataframe tbody tr th {\n",
       "        vertical-align: top;\n",
       "    }\n",
       "\n",
       "    .dataframe thead th {\n",
       "        text-align: right;\n",
       "    }\n",
       "</style>\n",
       "<table border=\"1\" class=\"dataframe\">\n",
       "  <thead>\n",
       "    <tr style=\"text-align: right;\">\n",
       "      <th></th>\n",
       "      <th>Rating</th>\n",
       "    </tr>\n",
       "  </thead>\n",
       "  <tbody>\n",
       "    <tr>\n",
       "      <th>count</th>\n",
       "      <td>782448.000000</td>\n",
       "    </tr>\n",
       "    <tr>\n",
       "      <th>mean</th>\n",
       "      <td>3.981954</td>\n",
       "    </tr>\n",
       "    <tr>\n",
       "      <th>std</th>\n",
       "      <td>1.396133</td>\n",
       "    </tr>\n",
       "    <tr>\n",
       "      <th>min</th>\n",
       "      <td>1.000000</td>\n",
       "    </tr>\n",
       "    <tr>\n",
       "      <th>25%</th>\n",
       "      <td>3.000000</td>\n",
       "    </tr>\n",
       "    <tr>\n",
       "      <th>50%</th>\n",
       "      <td>5.000000</td>\n",
       "    </tr>\n",
       "    <tr>\n",
       "      <th>75%</th>\n",
       "      <td>5.000000</td>\n",
       "    </tr>\n",
       "    <tr>\n",
       "      <th>max</th>\n",
       "      <td>5.000000</td>\n",
       "    </tr>\n",
       "  </tbody>\n",
       "</table>\n",
       "</div>"
      ],
      "text/plain": [
       "              Rating\n",
       "count  782448.000000\n",
       "mean        3.981954\n",
       "std         1.396133\n",
       "min         1.000000\n",
       "25%         3.000000\n",
       "50%         5.000000\n",
       "75%         5.000000\n",
       "max         5.000000"
      ]
     },
     "execution_count": 100,
     "metadata": {},
     "output_type": "execute_result"
    }
   ],
   "source": [
    "df1.describe()"
   ]
  },
  {
   "cell_type": "markdown",
   "metadata": {},
   "source": [
    "Here we can see that max rating is 5 and min rating is 1 and 50% of the users have given ratings as 5."
   ]
  },
  {
   "cell_type": "code",
   "execution_count": 101,
   "metadata": {},
   "outputs": [
    {
     "data": {
      "image/png": "[encoded data removed]",
      "text/plain": [
       "<Figure size 720x360 with 1 Axes>"
      ]
     },
     "metadata": {},
     "output_type": "display_data"
    }
   ],
   "source": [
    "with sns.axes_style('white'):\n",
    "    g = sns.factorplot(\"Rating\", data=df1, aspect=2.0,kind='count')\n",
    "    g.set_ylabels(\"Total number of ratings\")"
   ]
  },
  {
   "cell_type": "markdown",
   "metadata": {},
   "source": [
    "This is the distribution of the ratings with repect to the total obervations or ratings submitted."
   ]
  },
  {
   "cell_type": "markdown",
   "metadata": {},
   "source": [
    "# POPULARITY BASED RECOMMENDATION"
   ]
  },
  {
   "cell_type": "code",
   "execution_count": 102,
   "metadata": {},
   "outputs": [
    {
     "data": {
      "text/plain": [
       "(2550, 3)"
      ]
     },
     "execution_count": 102,
     "metadata": {},
     "output_type": "execute_result"
    }
   ],
   "source": [
    "user_count = df1['User_Id'].value_counts()\n",
    "df2 = df1[df1['User_Id'].isin(user_count[user_count >= 50].index)]\n",
    "df2.shape"
   ]
  },
  {
   "cell_type": "markdown",
   "metadata": {},
   "source": [
    "Here we are filtering users who have done rating for more than 50 products"
   ]
  },
  {
   "cell_type": "code",
   "execution_count": 103,
   "metadata": {},
   "outputs": [
    {
     "data": {
      "text/html": [
       "<div>\n",
       "<style scoped>\n",
       "    .dataframe tbody tr th:only-of-type {\n",
       "        vertical-align: middle;\n",
       "    }\n",
       "\n",
       "    .dataframe tbody tr th {\n",
       "        vertical-align: top;\n",
       "    }\n",
       "\n",
       "    .dataframe thead th {\n",
       "        text-align: right;\n",
       "    }\n",
       "</style>\n",
       "<table border=\"1\" class=\"dataframe\">\n",
       "  <thead>\n",
       "    <tr style=\"text-align: right;\">\n",
       "      <th></th>\n",
       "      <th>Product_Id</th>\n",
       "      <th>Count_Of_Users</th>\n",
       "    </tr>\n",
       "  </thead>\n",
       "  <tbody>\n",
       "    <tr>\n",
       "      <th>0</th>\n",
       "      <td>1400532655</td>\n",
       "      <td>1</td>\n",
       "    </tr>\n",
       "    <tr>\n",
       "      <th>1</th>\n",
       "      <td>B000000O48</td>\n",
       "      <td>1</td>\n",
       "    </tr>\n",
       "    <tr>\n",
       "      <th>2</th>\n",
       "      <td>B000001OL6</td>\n",
       "      <td>1</td>\n",
       "    </tr>\n",
       "    <tr>\n",
       "      <th>3</th>\n",
       "      <td>B000001OMN</td>\n",
       "      <td>1</td>\n",
       "    </tr>\n",
       "    <tr>\n",
       "      <th>4</th>\n",
       "      <td>B00000J05A</td>\n",
       "      <td>1</td>\n",
       "    </tr>\n",
       "  </tbody>\n",
       "</table>\n",
       "</div>"
      ],
      "text/plain": [
       "   Product_Id  Count_Of_Users\n",
       "0  1400532655               1\n",
       "1  B000000O48               1\n",
       "2  B000001OL6               1\n",
       "3  B000001OMN               1\n",
       "4  B00000J05A               1"
      ]
     },
     "execution_count": 103,
     "metadata": {},
     "output_type": "execute_result"
    }
   ],
   "source": [
    "df3 = df2.groupby('Product_Id').agg({'User_Id': 'count'}).reset_index()\n",
    "df3.rename(columns = {'User_Id': 'Count_Of_Users'},inplace=True)\n",
    "df3.head()"
   ]
  },
  {
   "cell_type": "code",
   "execution_count": 104,
   "metadata": {},
   "outputs": [
    {
     "data": {
      "text/html": [
       "<div>\n",
       "<style scoped>\n",
       "    .dataframe tbody tr th:only-of-type {\n",
       "        vertical-align: middle;\n",
       "    }\n",
       "\n",
       "    .dataframe tbody tr th {\n",
       "        vertical-align: top;\n",
       "    }\n",
       "\n",
       "    .dataframe thead th {\n",
       "        text-align: right;\n",
       "    }\n",
       "</style>\n",
       "<table border=\"1\" class=\"dataframe\">\n",
       "  <thead>\n",
       "    <tr style=\"text-align: right;\">\n",
       "      <th></th>\n",
       "      <th>Product_Id</th>\n",
       "      <th>Count_Of_Users</th>\n",
       "    </tr>\n",
       "  </thead>\n",
       "  <tbody>\n",
       "    <tr>\n",
       "      <th>113</th>\n",
       "      <td>B00004SB92</td>\n",
       "      <td>6</td>\n",
       "    </tr>\n",
       "    <tr>\n",
       "      <th>1099</th>\n",
       "      <td>B00008OE6I</td>\n",
       "      <td>5</td>\n",
       "    </tr>\n",
       "    <tr>\n",
       "      <th>2179</th>\n",
       "      <td>B000BKJZ9Q</td>\n",
       "      <td>4</td>\n",
       "    </tr>\n",
       "    <tr>\n",
       "      <th>2100</th>\n",
       "      <td>B0009RKL5S</td>\n",
       "      <td>4</td>\n",
       "    </tr>\n",
       "    <tr>\n",
       "      <th>1336</th>\n",
       "      <td>B0000AKVHF</td>\n",
       "      <td>4</td>\n",
       "    </tr>\n",
       "  </tbody>\n",
       "</table>\n",
       "</div>"
      ],
      "text/plain": [
       "      Product_Id  Count_Of_Users\n",
       "113   B00004SB92               6\n",
       "1099  B00008OE6I               5\n",
       "2179  B000BKJZ9Q               4\n",
       "2100  B0009RKL5S               4\n",
       "1336  B0000AKVHF               4"
      ]
     },
     "execution_count": 104,
     "metadata": {},
     "output_type": "execute_result"
    }
   ],
   "source": [
    "df3_data_sort = df3.sort_values(['Count_Of_Users', 'Product_Id'], ascending =False) \n",
    "df3_data_sort.head(5)"
   ]
  },
  {
   "cell_type": "markdown",
   "metadata": {},
   "source": [
    "In the above two cells we have groped Product_Id and User_id and fiding out the count of users who have selected a product and have sorted it in decending order, so we can distinguish the most popular products present."
   ]
  },
  {
   "cell_type": "code",
   "execution_count": 105,
   "metadata": {},
   "outputs": [],
   "source": [
    "popularity_recommendations = df3_data_sort.head(5) "
   ]
  },
  {
   "cell_type": "code",
   "execution_count": 106,
   "metadata": {},
   "outputs": [],
   "source": [
    "def recommend(User_Id):     \n",
    "    user_recommend = popularity_recommendations \n",
    "    user_recommend['User_Id'] = User_Id \n",
    "    cols = user_recommend.columns.tolist() \n",
    "    cols = cols[-1:] + cols[:-1] \n",
    "    user_recommend = user_recommend[cols] \n",
    "          \n",
    "    return user_recommend "
   ]
  },
  {
   "cell_type": "markdown",
   "metadata": {},
   "source": [
    "Here we have created a user defined function so as we recommend products based on popularity."
   ]
  },
  {
   "cell_type": "code",
   "execution_count": 107,
   "metadata": {},
   "outputs": [
    {
     "name": "stdout",
     "output_type": "stream",
     "text": [
      "Here is the recommendation for the User Id: 14\n",
      "\n",
      "      User_Id  Product_Id  Count_Of_Users\n",
      "113        14  B00004SB92               6\n",
      "1099       14  B00008OE6I               5\n",
      "2179       14  B000BKJZ9Q               4\n",
      "2100       14  B0009RKL5S               4\n",
      "1336       14  B0000AKVHF               4\n",
      "\n",
      "\n",
      "Here is the recommendation for the User Id: 75\n",
      "\n",
      "      User_Id  Product_Id  Count_Of_Users\n",
      "113        75  B00004SB92               6\n",
      "1099       75  B00008OE6I               5\n",
      "2179       75  B000BKJZ9Q               4\n",
      "2100       75  B0009RKL5S               4\n",
      "1336       75  B0000AKVHF               4\n",
      "\n",
      "\n"
     ]
    }
   ],
   "source": [
    "find_recommendations = [14,75]   \n",
    "for i in find_recommendations:\n",
    "    print(\"Here is the recommendation for the User Id: %d\\n\" %(i))\n",
    "    print(recommend(i))    \n",
    "    print(\"\\n\") "
   ]
  },
  {
   "cell_type": "markdown",
   "metadata": {},
   "source": [
    "In the above cell we have provided 2 inputs .i.e random User_Ids for which the Popularity based recommendation model will recommend product to it."
   ]
  },
  {
   "cell_type": "markdown",
   "metadata": {},
   "source": [
    "# COLABORATIVE FILTERING RECOMMENDATION SYSTEM"
   ]
  },
  {
   "cell_type": "code",
   "execution_count": 108,
   "metadata": {},
   "outputs": [
    {
     "data": {
      "text/plain": [
       "<surprise.dataset.DatasetAutoFolds at 0x1e800292790>"
      ]
     },
     "execution_count": 108,
     "metadata": {},
     "output_type": "execute_result"
    }
   ],
   "source": [
    "reader = Reader(rating_scale=(1, 5))\n",
    "df4 = Dataset.load_from_df(df2,reader)\n",
    "df4"
   ]
  },
  {
   "cell_type": "code",
   "execution_count": 109,
   "metadata": {},
   "outputs": [],
   "source": [
    "trainset, testset = train_test_split(df4, test_size=0.3,random_state=10)"
   ]
  },
  {
   "cell_type": "code",
   "execution_count": 110,
   "metadata": {},
   "outputs": [
    {
     "name": "stdout",
     "output_type": "stream",
     "text": [
      "Estimating biases using als...\n",
      "Computing the pearson_baseline similarity matrix...\n",
      "Done computing similarity matrix.\n"
     ]
    },
    {
     "data": {
      "text/plain": [
       "<surprise.prediction_algorithms.knns.KNNWithMeans at 0x1e8002923d0>"
      ]
     },
     "execution_count": 110,
     "metadata": {},
     "output_type": "execute_result"
    }
   ],
   "source": [
    "algo = KNNWithMeans(k=50, sim_options={'name': 'pearson_baseline', 'user_based': True})\n",
    "algo.fit(trainset)"
   ]
  },
  {
   "cell_type": "code",
   "execution_count": 111,
   "metadata": {},
   "outputs": [],
   "source": [
    "test_pred = algo.test(testset)"
   ]
  },
  {
   "cell_type": "code",
   "execution_count": 112,
   "metadata": {},
   "outputs": [],
   "source": [
    "def get_top_n(predictions, n=5):\n",
    "    top_n = defaultdict(list)\n",
    "    for uid, iid, true_r, est, _ in predictions:\n",
    "        top_n[uid].append((iid, est))\n",
    "\n",
    "    for uid, user_ratings in top_n.items():\n",
    "        user_ratings.sort(key=lambda x: x[1], reverse=True)\n",
    "        top_n[uid] = user_ratings[:n]\n",
    "\n",
    "    return top_n"
   ]
  },
  {
   "cell_type": "markdown",
   "metadata": {},
   "source": [
    "#### User Defined function for getting top 5 predictions"
   ]
  },
  {
   "cell_type": "code",
   "execution_count": 113,
   "metadata": {},
   "outputs": [
    {
     "data": {
      "text/plain": [
       "defaultdict(list,\n",
       "            {'A25HBO5V8S8SEA': [('B0000691IO', 5),\n",
       "              ('B00005ICE1', 5),\n",
       "              ('B00007KDVI', 4.975806451612903),\n",
       "              ('B00006HCHH', 4.975806451612903),\n",
       "              ('B00006HXF4', 4.975806451612903)],\n",
       "             'A1F9Z42CFF9IAY': [('B00001WRSJ', 4.197759103641457),\n",
       "              ('B000BJSEQW', 4.197759103641457),\n",
       "              ('B00007E7QS', 4.197759103641457),\n",
       "              ('B00078GLJY', 4.197759103641457),\n",
       "              ('B00007H08Y', 4.197759103641457)],\n",
       "             'A1MJMYLRTZ76ZX': [('B00004YZLV', 4.608695652173913),\n",
       "              ('B00007B6L5', 4.608695652173913),\n",
       "              ('B00005NHH8', 4.608695652173913),\n",
       "              ('B000031KIM', 4.608695652173913),\n",
       "              ('B000BKJZ9Q', 4.608695652173913)],\n",
       "             'A5JLAU2ARJ0BO': [('B00008OE6I', 4.262334032145352),\n",
       "              ('B0007KQWF0', 4.197759103641457),\n",
       "              ('B00008BO91', 4.197759103641457),\n",
       "              ('B00006HYWR', 4.197759103641457),\n",
       "              ('B00006484F', 4.197759103641457)],\n",
       "             'AT2J7H5TRZM8Z': [('B00006JM1W', 4.197759103641457),\n",
       "              ('B00005BIB8', 4.197759103641457),\n",
       "              ('B00006484F', 4.197759103641457),\n",
       "              ('B00000J4FS', 4.197759103641457),\n",
       "              ('B0000635UX', 4.197759103641457)],\n",
       "             'A231WM2Z2JL0U3': [('B0000630TO', 5),\n",
       "              ('B000021YUO', 4.68542199488491),\n",
       "              ('B00004SB92', 4.59041394335512),\n",
       "              ('B00001YVG4', 4.544117647058823),\n",
       "              ('B00004SCKA', 4.31831119544592)],\n",
       "             'A2AEZQ3DGBBLPR': [('B00005QXWI', 4.616596638655462),\n",
       "              ('B00005YTX0', 4.197759103641457),\n",
       "              ('B00006ANXP', 4.197759103641457),\n",
       "              ('B00004Y2MM', 4.197759103641457),\n",
       "              ('B00004X084', 4.197759103641457)],\n",
       "             'AGXV8E7XK9J6H': [('B0007Y794O', 4.228571428571429),\n",
       "              ('B0001D3K8A', 4.228571428571429),\n",
       "              ('B00009XVBU', 4.228571428571429),\n",
       "              ('B0007NIB74', 4.197759103641457),\n",
       "              ('B00091SBU6', 4.197759103641457)],\n",
       "             'AGHZXQL9F94T9': [('B000069BJ9', 4.197759103641457),\n",
       "              ('B0002IONG2', 4.197759103641457),\n",
       "              ('B00008MZ0B', 4.197759103641457),\n",
       "              ('B0007MVHZS', 4.197759103641457),\n",
       "              ('B00008L3HI', 4.197759103641457)],\n",
       "             'A6FIAB28IS79': [('B0007LJHVA', 4.197759103641457),\n",
       "              ('B00005138B', 4.197759103641457),\n",
       "              ('B0007LJHVK', 4.197759103641457),\n",
       "              ('B0006N2P8Q', 4.197759103641457),\n",
       "              ('B0001FV3AK', 4.197759103641457)],\n",
       "             'A3OXHLG6DIBRW8': [('B000067VBL', 4.346938775510204),\n",
       "              ('B00004ZCJE', 4.346938775510204),\n",
       "              ('B0000ARKWY', 4.197759103641457),\n",
       "              ('B00006IJO9', 4.197759103641457),\n",
       "              ('B00006JQLB', 4.197759103641457)],\n",
       "             'A12DLJESJKM1OQ': [('B00008OE5I', 5),\n",
       "              ('B0000DBJJT', 4.534382284382284),\n",
       "              ('B000087L74', 4.431818181818182),\n",
       "              ('B00008K4BD', 4.431818181818182),\n",
       "              ('B00006L9CT', 4.431818181818182)],\n",
       "             'A149RNR5RH19YY': [('B0002DV9DC', 4.197759103641457),\n",
       "              ('B00079PNTM', 4.197759103641457),\n",
       "              ('B000BCDFLS', 4.197759103641457),\n",
       "              ('B00001P4ZH', 4.197759103641457),\n",
       "              ('B000B622D6', 4.197759103641457)],\n",
       "             'A203OCQQ12MAVT': [('B0009H5VVM', 4.365384615384615),\n",
       "              ('B0002E50MC', 4.365384615384615),\n",
       "              ('B000BN94F8', 4.365384615384615),\n",
       "              ('B00011CRUE', 4.197759103641457),\n",
       "              ('B0000X0VCY', 4.197759103641457)],\n",
       "             'AKT8TGIT6VVZ5': [('B0001976UC', 4.7926829268292686),\n",
       "              ('B0007876DE', 4.197759103641457),\n",
       "              ('B0002R281K', 4.197759103641457),\n",
       "              ('B00028SPN4', 4.197759103641457),\n",
       "              ('B0000AGAXZ', 4.197759103641457)],\n",
       "             'ABH9D1TEOJ56E': [('B00006JLOT', 4.465617715617716),\n",
       "              ('B000087LII', 4.465617715617716),\n",
       "              ('B000087BWL', 4.465617715617716),\n",
       "              ('B00008OE5G', 4.465617715617716),\n",
       "              ('B000063LHM', 4.197759103641457)],\n",
       "             'A2B7BUH8834Y6M': [('B0000AAAPF', 4.430769230769231),\n",
       "              ('B00004TDN2', 4.430769230769231),\n",
       "              ('B00004ZCJE', 4.430769230769231),\n",
       "              ('B00004SB92', 4.430769230769231),\n",
       "              ('B0002ILKNQ', 4.430769230769231)],\n",
       "             'A7Y6AVS576M03': [('B00005A0R4', 5),\n",
       "              ('B00009IB70', 4.75),\n",
       "              ('B00005T3DP', 4.75),\n",
       "              ('B000BQ7GW8', 4.75),\n",
       "              ('B00001W0DI', 4.75)],\n",
       "             'A1JWSDDIH5Z7DV': [('B00005137P', 4.962264150943396),\n",
       "              ('B000816XI4', 4.197759103641457),\n",
       "              ('B0000632GH', 4.197759103641457),\n",
       "              ('B0002F7I9O', 4.197759103641457),\n",
       "              ('B0002A6XCW', 4.197759103641457)],\n",
       "             'A2R6RA8FRBS608': [('B00029U1DK', 4.39622641509434),\n",
       "              ('B00006IAAN', 4.39622641509434),\n",
       "              ('B00004Z5M1', 4.39622641509434),\n",
       "              ('B00006IW1X', 4.39622641509434),\n",
       "              ('B0000DC640', 4.197759103641457)],\n",
       "             'A2BGZ52M908MJY': [('B00004TEN2', 4.753501400560224),\n",
       "              ('B00004SYB7', 4.753501400560224),\n",
       "              ('B00004U8LL', 4.197759103641457),\n",
       "              ('B00004ZCC2', 4.197759103641457),\n",
       "              ('B00004TYJG', 4.197759103641457)],\n",
       "             'A2AY4YUOX2N1BQ': [('B0007Y791C', 4.611111111111111),\n",
       "              ('B0007Y79E4', 4.611111111111111),\n",
       "              ('B0000899ZA', 4.611111111111111),\n",
       "              ('B00009R76N', 4.197759103641457),\n",
       "              ('B00009R7SE', 4.197759103641457)],\n",
       "             'A11D1KHM7DVOQK': [('B000059L44', 4.197759103641457),\n",
       "              ('B00001ZWRV', 4.197759103641457),\n",
       "              ('B00000J1G6', 4.197759103641457),\n",
       "              ('B00008RS96', 4.197759103641457),\n",
       "              ('B00004T8R2', 4.197759103641457)],\n",
       "             'AT6CZDCP4TRGA': [('B0006VX1G8', 4.197759103641457),\n",
       "              ('B0007XOHTU', 4.197759103641457),\n",
       "              ('B000265GL0', 4.197759103641457),\n",
       "              ('B0000D1E04', 4.197759103641457),\n",
       "              ('B00019VAWC', 4.197759103641457)],\n",
       "             'A1RPTVW5VEOSI': [('B0002DCJT0', 4.197759103641457),\n",
       "              ('B00005OMZO', 4.197759103641457),\n",
       "              ('B00004XRDN', 4.197759103641457),\n",
       "              ('B00008OE46', 4.197759103641457),\n",
       "              ('B0000UMLYI', 4.197759103641457)],\n",
       "             'A1FR68QH6Z4YZM': [('B0002Y6DGO', 5),\n",
       "              ('B0000AGAWV', 4.865853658536585),\n",
       "              ('B00005LE77', 4.865853658536585),\n",
       "              ('B000182FHW', 4.865853658536585),\n",
       "              ('B000AZ57M6', 4.658536585365853)],\n",
       "             'A2CL818RN52NWN': [('B0007VMROE', 4.2727272727272725),\n",
       "              ('B0000EWNWE', 4.2727272727272725),\n",
       "              ('B0002KVQBA', 4.2727272727272725),\n",
       "              ('B0001LXQIQ', 4.197759103641457),\n",
       "              ('B0000300EC', 4.197759103641457)]})"
      ]
     },
     "execution_count": 113,
     "metadata": {},
     "output_type": "execute_result"
    }
   ],
   "source": [
    "top_n = get_top_n(test_pred, n=5)\n",
    "top_n"
   ]
  },
  {
   "cell_type": "code",
   "execution_count": 114,
   "metadata": {},
   "outputs": [
    {
     "name": "stdout",
     "output_type": "stream",
     "text": [
      "A25HBO5V8S8SEA ['B0000691IO', 'B00005ICE1', 'B00007KDVI', 'B00006HCHH', 'B00006HXF4']\n",
      "A1F9Z42CFF9IAY ['B00001WRSJ', 'B000BJSEQW', 'B00007E7QS', 'B00078GLJY', 'B00007H08Y']\n",
      "A1MJMYLRTZ76ZX ['B00004YZLV', 'B00007B6L5', 'B00005NHH8', 'B000031KIM', 'B000BKJZ9Q']\n",
      "A5JLAU2ARJ0BO ['B00008OE6I', 'B0007KQWF0', 'B00008BO91', 'B00006HYWR', 'B00006484F']\n",
      "AT2J7H5TRZM8Z ['B00006JM1W', 'B00005BIB8', 'B00006484F', 'B00000J4FS', 'B0000635UX']\n",
      "A231WM2Z2JL0U3 ['B0000630TO', 'B000021YUO', 'B00004SB92', 'B00001YVG4', 'B00004SCKA']\n",
      "A2AEZQ3DGBBLPR ['B00005QXWI', 'B00005YTX0', 'B00006ANXP', 'B00004Y2MM', 'B00004X084']\n",
      "AGXV8E7XK9J6H ['B0007Y794O', 'B0001D3K8A', 'B00009XVBU', 'B0007NIB74', 'B00091SBU6']\n",
      "AGHZXQL9F94T9 ['B000069BJ9', 'B0002IONG2', 'B00008MZ0B', 'B0007MVHZS', 'B00008L3HI']\n",
      "A6FIAB28IS79 ['B0007LJHVA', 'B00005138B', 'B0007LJHVK', 'B0006N2P8Q', 'B0001FV3AK']\n",
      "A3OXHLG6DIBRW8 ['B000067VBL', 'B00004ZCJE', 'B0000ARKWY', 'B00006IJO9', 'B00006JQLB']\n",
      "A12DLJESJKM1OQ ['B00008OE5I', 'B0000DBJJT', 'B000087L74', 'B00008K4BD', 'B00006L9CT']\n",
      "A149RNR5RH19YY ['B0002DV9DC', 'B00079PNTM', 'B000BCDFLS', 'B00001P4ZH', 'B000B622D6']\n",
      "A203OCQQ12MAVT ['B0009H5VVM', 'B0002E50MC', 'B000BN94F8', 'B00011CRUE', 'B0000X0VCY']\n",
      "AKT8TGIT6VVZ5 ['B0001976UC', 'B0007876DE', 'B0002R281K', 'B00028SPN4', 'B0000AGAXZ']\n",
      "ABH9D1TEOJ56E ['B00006JLOT', 'B000087LII', 'B000087BWL', 'B00008OE5G', 'B000063LHM']\n",
      "A2B7BUH8834Y6M ['B0000AAAPF', 'B00004TDN2', 'B00004ZCJE', 'B00004SB92', 'B0002ILKNQ']\n",
      "A7Y6AVS576M03 ['B00005A0R4', 'B00009IB70', 'B00005T3DP', 'B000BQ7GW8', 'B00001W0DI']\n",
      "A1JWSDDIH5Z7DV ['B00005137P', 'B000816XI4', 'B0000632GH', 'B0002F7I9O', 'B0002A6XCW']\n",
      "A2R6RA8FRBS608 ['B00029U1DK', 'B00006IAAN', 'B00004Z5M1', 'B00006IW1X', 'B0000DC640']\n",
      "A2BGZ52M908MJY ['B00004TEN2', 'B00004SYB7', 'B00004U8LL', 'B00004ZCC2', 'B00004TYJG']\n",
      "A2AY4YUOX2N1BQ ['B0007Y791C', 'B0007Y79E4', 'B0000899ZA', 'B00009R76N', 'B00009R7SE']\n",
      "A11D1KHM7DVOQK ['B000059L44', 'B00001ZWRV', 'B00000J1G6', 'B00008RS96', 'B00004T8R2']\n",
      "AT6CZDCP4TRGA ['B0006VX1G8', 'B0007XOHTU', 'B000265GL0', 'B0000D1E04', 'B00019VAWC']\n",
      "A1RPTVW5VEOSI ['B0002DCJT0', 'B00005OMZO', 'B00004XRDN', 'B00008OE46', 'B0000UMLYI']\n",
      "A1FR68QH6Z4YZM ['B0002Y6DGO', 'B0000AGAWV', 'B00005LE77', 'B000182FHW', 'B000AZ57M6']\n",
      "A2CL818RN52NWN ['B0007VMROE', 'B0000EWNWE', 'B0002KVQBA', 'B0001LXQIQ', 'B0000300EC']\n"
     ]
    }
   ],
   "source": [
    "for uid, user_ratings in top_n.items():\n",
    "    print(uid, [iid for (iid, _) in user_ratings])"
   ]
  },
  {
   "cell_type": "markdown",
   "metadata": {},
   "source": [
    "Here we are printing the recommended items for a user"
   ]
  },
  {
   "cell_type": "code",
   "execution_count": 115,
   "metadata": {},
   "outputs": [
    {
     "data": {
      "text/html": [
       "<div>\n",
       "<style scoped>\n",
       "    .dataframe tbody tr th:only-of-type {\n",
       "        vertical-align: middle;\n",
       "    }\n",
       "\n",
       "    .dataframe tbody tr th {\n",
       "        vertical-align: top;\n",
       "    }\n",
       "\n",
       "    .dataframe thead th {\n",
       "        text-align: right;\n",
       "    }\n",
       "</style>\n",
       "<table border=\"1\" class=\"dataframe\">\n",
       "  <thead>\n",
       "    <tr style=\"text-align: right;\">\n",
       "      <th></th>\n",
       "      <th>iid</th>\n",
       "      <th>r_ui</th>\n",
       "      <th>est</th>\n",
       "    </tr>\n",
       "  </thead>\n",
       "  <tbody>\n",
       "    <tr>\n",
       "      <th>496</th>\n",
       "      <td>B0000630TO</td>\n",
       "      <td>5.0</td>\n",
       "      <td>5.000000</td>\n",
       "    </tr>\n",
       "    <tr>\n",
       "      <th>385</th>\n",
       "      <td>B000021YUO</td>\n",
       "      <td>5.0</td>\n",
       "      <td>4.685422</td>\n",
       "    </tr>\n",
       "    <tr>\n",
       "      <th>371</th>\n",
       "      <td>B00004SB92</td>\n",
       "      <td>5.0</td>\n",
       "      <td>4.590414</td>\n",
       "    </tr>\n",
       "    <tr>\n",
       "      <th>414</th>\n",
       "      <td>B00001YVG4</td>\n",
       "      <td>5.0</td>\n",
       "      <td>4.544118</td>\n",
       "    </tr>\n",
       "    <tr>\n",
       "      <th>18</th>\n",
       "      <td>B00004SCKA</td>\n",
       "      <td>4.0</td>\n",
       "      <td>4.318311</td>\n",
       "    </tr>\n",
       "    <tr>\n",
       "      <th>156</th>\n",
       "      <td>B00005LB8P</td>\n",
       "      <td>5.0</td>\n",
       "      <td>4.294118</td>\n",
       "    </tr>\n",
       "    <tr>\n",
       "      <th>699</th>\n",
       "      <td>B00004VX3T</td>\n",
       "      <td>5.0</td>\n",
       "      <td>4.294118</td>\n",
       "    </tr>\n",
       "    <tr>\n",
       "      <th>576</th>\n",
       "      <td>B00005B0BY</td>\n",
       "      <td>5.0</td>\n",
       "      <td>4.294118</td>\n",
       "    </tr>\n",
       "    <tr>\n",
       "      <th>445</th>\n",
       "      <td>B00007KDVI</td>\n",
       "      <td>5.0</td>\n",
       "      <td>4.294118</td>\n",
       "    </tr>\n",
       "    <tr>\n",
       "      <th>395</th>\n",
       "      <td>B00005T3T6</td>\n",
       "      <td>5.0</td>\n",
       "      <td>4.294118</td>\n",
       "    </tr>\n",
       "  </tbody>\n",
       "</table>\n",
       "</div>"
      ],
      "text/plain": [
       "            iid  r_ui       est\n",
       "496  B0000630TO   5.0  5.000000\n",
       "385  B000021YUO   5.0  4.685422\n",
       "371  B00004SB92   5.0  4.590414\n",
       "414  B00001YVG4   5.0  4.544118\n",
       "18   B00004SCKA   4.0  4.318311\n",
       "156  B00005LB8P   5.0  4.294118\n",
       "699  B00004VX3T   5.0  4.294118\n",
       "576  B00005B0BY   5.0  4.294118\n",
       "445  B00007KDVI   5.0  4.294118\n",
       "395  B00005T3T6   5.0  4.294118"
      ]
     },
     "execution_count": 115,
     "metadata": {},
     "output_type": "execute_result"
    }
   ],
   "source": [
    "pred = pd.DataFrame(test_pred)\n",
    "pred[pred['uid'] == 'A231WM2Z2JL0U3'][['iid', 'r_ui','est']].sort_values(by = 'est',ascending = False).head(10)"
   ]
  },
  {
   "cell_type": "markdown",
   "metadata": {},
   "source": [
    "Here we are entering a user id and the Collaborating filtering Recommdention system is is recomending the user the products similar to the products it has bought and what other similar user had bought."
   ]
  },
  {
   "cell_type": "markdown",
   "metadata": {},
   "source": [
    "#                            Thank you!"
   ]
  }
 ],
 "metadata": {
  "kernelspec": {
   "display_name": "Python 3",
   "language": "python",
   "name": "python3"
  },
  "language_info": {
   "codemirror_mode": {
    "name": "ipython",
    "version": 3
   },
   "file_extension": ".py",
   "mimetype": "text/x-python",
   "name": "python",
   "nbconvert_exporter": "python",
   "pygments_lexer": "ipython3",
   "version": "3.6.13"
  }
 },
 "nbformat": 4,
 "nbformat_minor": 4
}
